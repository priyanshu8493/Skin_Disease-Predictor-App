{
  "nbformat": 4,
  "nbformat_minor": 0,
  "metadata": {
    "colab": {
      "provenance": [],
      "authorship_tag": "ABX9TyOVi2c3IKVbcI37Buf9FQJ2",
      "include_colab_link": true
    },
    "kernelspec": {
      "name": "python3",
      "display_name": "Python 3"
    },
    "language_info": {
      "name": "python"
    }
  },
  "cells": [
    {
      "cell_type": "markdown",
      "metadata": {
        "id": "view-in-github",
        "colab_type": "text"
      },
      "source": [
        "<a href=\"https://colab.research.google.com/github/priyanshu8493/Skin_Disease-Predictor-App/blob/main/Skin_Disease.ipynb\" target=\"_parent\"><img src=\"https://colab.research.google.com/assets/colab-badge.svg\" alt=\"Open In Colab\"/></a>"
      ]
    },
    {
      "cell_type": "code",
      "source": [
        "# downloading data via kagglehub\n",
        "\n",
        "import kagglehub\n",
        "\n",
        "# Download latest version\n",
        "path = kagglehub.dataset_download(\"riyaelizashaju/skin-disease-classification-image-dataset\")\n",
        "\n",
        "print(\"Path to dataset files:\", path)"
      ],
      "metadata": {
        "colab": {
          "base_uri": "https://localhost:8080/"
        },
        "id": "7q_YZnxacoNB",
        "outputId": "76aa4517-dda8-477b-fda9-842096bec035"
      },
      "execution_count": 1,
      "outputs": [
        {
          "output_type": "stream",
          "name": "stdout",
          "text": [
            "Warning: Looks like you're using an outdated `kagglehub` version, please consider updating (latest version: 0.3.5)\n",
            "Downloading from https://www.kaggle.com/api/v1/datasets/download/riyaelizashaju/skin-disease-classification-image-dataset?dataset_version_number=1...\n"
          ]
        },
        {
          "output_type": "stream",
          "name": "stderr",
          "text": [
            "100%|██████████| 169M/169M [00:01<00:00, 109MB/s]"
          ]
        },
        {
          "output_type": "stream",
          "name": "stdout",
          "text": [
            "Extracting files...\n"
          ]
        },
        {
          "output_type": "stream",
          "name": "stderr",
          "text": [
            "\n"
          ]
        },
        {
          "output_type": "stream",
          "name": "stdout",
          "text": [
            "Path to dataset files: /root/.cache/kagglehub/datasets/riyaelizashaju/skin-disease-classification-image-dataset/versions/1\n"
          ]
        }
      ]
    },
    {
      "cell_type": "code",
      "source": [
        "# getting the directories to train and val data\n",
        "import os\n",
        "\n",
        "dataset_dir = '/root/.cache/kagglehub/datasets/riyaelizashaju/skin-disease-classification-image-dataset/versions/1'\n",
        "\n",
        "for root, dirs, _ in os.walk(dataset_dir):\n",
        "  if 'train' in dirs:\n",
        "    train_dir = os.path.join(root, 'train')\n",
        "  if 'val' in dirs:\n",
        "    val_dir = os.path.join(root,'val')\n",
        "\n",
        "\n",
        "print(train_dir)\n",
        "print(val_dir)\n",
        "\n",
        "\n",
        "# image size = (600,450)\n"
      ],
      "metadata": {
        "colab": {
          "base_uri": "https://localhost:8080/"
        },
        "id": "xSGgUD0icvRH",
        "outputId": "40357baa-9af9-494d-9714-76fd8efb97e2"
      },
      "execution_count": 3,
      "outputs": [
        {
          "output_type": "stream",
          "name": "stdout",
          "text": [
            "/root/.cache/kagglehub/datasets/riyaelizashaju/skin-disease-classification-image-dataset/versions/1/Split_smol/train\n",
            "/root/.cache/kagglehub/datasets/riyaelizashaju/skin-disease-classification-image-dataset/versions/1/Split_smol/val\n"
          ]
        }
      ]
    },
    {
      "cell_type": "code",
      "source": [
        "# setting up the datagenerator from train and val directories\n",
        "\n",
        "from tensorflow.keras.preprocessing.image import ImageDataGenerator\n",
        "\n",
        "gen_ins = ImageDataGenerator( rescale = 1.0/255,\n",
        "                             width_shift_range = 0.2,\n",
        "                              height_shift_range = 0.2,         # added image augmentations to add more images to our set\n",
        "                              rotation_range = 40,\n",
        "                              shear_range = 0.2,\n",
        "                              horizontal_flip = True,\n",
        "                              zoom_range = 0.2,\n",
        "                              fill_mode = 'nearest')\n",
        "\n",
        "train_generator = gen_ins.flow_from_directory(train_dir, class_mode = 'categorical', target_size = (600,600))\n",
        "\n",
        "val_generator = gen_ins.flow_from_directory(val_dir, class_mode = 'categorical', target_size = (600,600))\n",
        "\n",
        "\n",
        "# all images rescaled to (400,400) size which is the input shape to our cnn"
      ],
      "metadata": {
        "colab": {
          "base_uri": "https://localhost:8080/"
        },
        "id": "NVCiKSztdaLh",
        "outputId": "82d2f90e-976b-4ac7-b1df-c9470edd97bb"
      },
      "execution_count": 23,
      "outputs": [
        {
          "output_type": "stream",
          "name": "stdout",
          "text": [
            "Found 697 images belonging to 9 classes.\n",
            "Found 181 images belonging to 9 classes.\n"
          ]
        }
      ]
    },
    {
      "cell_type": "code",
      "source": [
        "#EXPERIMENT\n",
        "#checking the input shape of an image\n",
        "\n",
        "from PIL import Image\n",
        "import os\n",
        "image_path = 'ISIC_0024707.jpg'\n",
        "\n",
        "for root, dirs, _ in os.walk(dataset_dir):\n",
        "  if image_path in _:\n",
        "    image_path = os.path.join(root, image_path)\n",
        "\n",
        "with Image.open(image_path) as img:\n",
        "  print(img.size)\n",
        "\n",
        "\n"
      ],
      "metadata": {
        "colab": {
          "base_uri": "https://localhost:8080/"
        },
        "id": "MU_sPT2EerDH",
        "outputId": "aef61047-e5f4-4301-da77-e49321e611b2"
      },
      "execution_count": 9,
      "outputs": [
        {
          "output_type": "stream",
          "name": "stdout",
          "text": [
            "(600, 450)\n"
          ]
        }
      ]
    },
    {
      "cell_type": "code",
      "source": [
        "# defining the model\n",
        "import tensorflow as tf\n",
        "\n",
        "#creating a cnn\n",
        "\n",
        "model = tf.keras.models.Sequential([\n",
        "    tf.keras.layers.Conv2D(16, (3,3), activation = 'relu', input_shape = (600,600,3) ),\n",
        "    tf.keras.layers.MaxPooling2D((2,2)),\n",
        "    tf.keras.layers.Dropout(0.2),\n",
        "    tf.keras.layers.Conv2D(32, (3,3), activation = 'relu'),\n",
        "    tf.keras.layers.MaxPooling2D((2,2)),\n",
        "    tf.keras.layers.Dropout(0.2),\n",
        "    tf.keras.layers.Conv2D(64, (3,3), activation = 'relu'),   # added some dropout regulation layers to prevent overfitting\n",
        "    tf.keras.layers.MaxPooling2D((2,2)),\n",
        "    tf.keras.layers.Dropout(0.2),\n",
        "    tf.keras.layers.Flatten(),\n",
        "    tf.keras.layers.Dense(128, activation ='relu'),\n",
        "    tf.keras.layers.Dropout(0.2),\n",
        "    tf.keras.layers.Dense( 9, activation = 'softmax')\n",
        "])\n",
        "\n",
        "model.compile( loss = 'categorical_crossentropy', optimizer = 'adam', metrics = ['accuracy'])"
      ],
      "metadata": {
        "colab": {
          "base_uri": "https://localhost:8080/"
        },
        "id": "XxmaiWQyd5jH",
        "outputId": "61b5cfd9-d42c-4f61-8c42-db7373a2d5b6"
      },
      "execution_count": 24,
      "outputs": [
        {
          "output_type": "stream",
          "name": "stderr",
          "text": [
            "/usr/local/lib/python3.10/dist-packages/keras/src/layers/convolutional/base_conv.py:107: UserWarning: Do not pass an `input_shape`/`input_dim` argument to a layer. When using Sequential models, prefer using an `Input(shape)` object as the first layer in the model instead.\n",
            "  super().__init__(activity_regularizer=activity_regularizer, **kwargs)\n"
          ]
        }
      ]
    },
    {
      "cell_type": "code",
      "source": [
        "#fitting the model\n",
        "\n",
        "history = model.fit(train_generator, epochs = 50, validation_data = val_generator)"
      ],
      "metadata": {
        "colab": {
          "base_uri": "https://localhost:8080/"
        },
        "id": "qHc26y4dhqYS",
        "outputId": "36baee06-4455-46e6-d6d9-a912f5c0b021"
      },
      "execution_count": null,
      "outputs": [
        {
          "output_type": "stream",
          "name": "stdout",
          "text": [
            "Epoch 1/50\n",
            "\u001b[1m22/22\u001b[0m \u001b[32m━━━━━━━━━━━━━━━━━━━━\u001b[0m\u001b[37m\u001b[0m \u001b[1m509s\u001b[0m 22s/step - accuracy: 0.1457 - loss: 22.8108 - val_accuracy: 0.1602 - val_loss: 2.1530\n",
            "Epoch 2/50\n",
            "\u001b[1m17/22\u001b[0m \u001b[32m━━━━━━━━━━━━━━━\u001b[0m\u001b[37m━━━━━\u001b[0m \u001b[1m1:30\u001b[0m 18s/step - accuracy: 0.1647 - loss: 2.1129"
          ]
        }
      ]
    }
  ]
}